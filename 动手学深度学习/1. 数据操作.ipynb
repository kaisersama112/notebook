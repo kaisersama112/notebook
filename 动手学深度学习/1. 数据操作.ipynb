{
 "cells": [
  {
   "cell_type": "markdown",
   "source": [
    "## 2.1 数据操作\n",
    "为了能够完成各种数据操作，我们需要某种方法来存储和操作数据。 通常，我们需要做两件重要的事：\n",
    "    （1）获取数据；\n",
    "    （2）将数据读入计算机后对其进行处理。 如果没有某种方法来存储数据，那么获取数据是没有意义的。\n",
    "    首先，我们介绍n维数组，也称为张量（tensor）。 使用过Python中NumPy计算包的读者会对本部分很熟悉。 无论使用哪个深度学习框架，它的张量类（在MXNet中为ndarray， 在PyTorch和TensorFlow中为Tensor）都与Numpy的ndarray类似。 但深度学习框架又比Numpy的ndarray多一些重要功能： 首先，GPU很好地支持加速计算，而NumPy仅支持CPU计算； 其次，张量类支持自动微分。 这些功能使得张量类更适合深度学习。 如果没有特殊说明，本书中所说的张量均指的是张量类的实例。"
   ],
   "metadata": {
    "collapsed": false
   },
   "id": "e3867432d1d7bf1e"
  },
  {
   "cell_type": "code",
   "execution_count": 5,
   "outputs": [
    {
     "name": "stdout",
     "output_type": "stream",
     "text": [
      "^C\n"
     ]
    }
   ],
   "source": [
    "# 安装pytorch gpu 版本\n",
    "!pip3 install torch torchvision torchaudio --index-url https://download.pytorch.org/whl/cu118\n"
   ],
   "metadata": {
    "collapsed": false,
    "ExecuteTime": {
     "end_time": "2023-12-03T14:12:21.180383600Z",
     "start_time": "2023-12-03T14:06:16.943540Z"
    }
   },
   "id": "995e890c6f99ae72"
  },
  {
   "cell_type": "code",
   "execution_count": 3,
   "outputs": [
    {
     "name": "stderr",
     "output_type": "stream",
     "text": [
      "\n",
      "KeyboardInterrupt\n",
      "\n"
     ]
    }
   ],
   "source": [
    "import torch"
   ],
   "metadata": {
    "collapsed": false,
    "ExecuteTime": {
     "end_time": "2023-12-03T14:04:01.259207500Z",
     "start_time": "2023-12-03T14:04:01.114Z"
    }
   },
   "id": "af8966dd9c01a496"
  },
  {
   "cell_type": "markdown",
   "source": [
    "张量表示一个由数值组成的数组，这个数组可能有多个维度，具有一个轴的张量对于数学上的向量（vector）,具有两个轴的张量对应数学上的矩阵（matrix）;具有两个轴以上的张量没有特殊的数学名称。\n"
   ],
   "metadata": {
    "collapsed": false
   },
   "id": "96c3f94e43f915ff"
  },
  {
   "cell_type": "code",
   "execution_count": null,
   "outputs": [],
   "source": [
    "#  创建一个行向量x 这个行向量包含以0开始的前12个整数，他们默认创建为整数，也可以指定创建类型为浮点数，张量中的每个值都称为张量的元素（element）。例如：张量 x 中有 12 个元素。除非额外指定，新的张量将存储在内存中，并采用基于CPU的计算。\n",
    "\n",
    "x = torch.arange(12)\n",
    "x\n",
    "# 使用shape属性来访问张量（沿每个轴的长度）的形状 。\n",
    "x.shape\n"
   ],
   "metadata": {
    "collapsed": false,
    "ExecuteTime": {
     "start_time": "2023-12-03T14:04:01.257212300Z"
    }
   },
   "id": "f20edf737b6d7fb9"
  },
  {
   "cell_type": "markdown",
   "source": [],
   "metadata": {
    "collapsed": false
   },
   "id": "68d81872a7a1eabb"
  },
  {
   "cell_type": "code",
   "execution_count": null,
   "outputs": [],
   "source": [],
   "metadata": {
    "collapsed": false,
    "ExecuteTime": {
     "start_time": "2023-12-03T14:04:01.258209700Z"
    }
   },
   "id": "e7debc942c42989"
  },
  {
   "cell_type": "code",
   "execution_count": null,
   "outputs": [],
   "source": [],
   "metadata": {
    "collapsed": false,
    "ExecuteTime": {
     "end_time": "2023-12-03T14:04:01.263195900Z",
     "start_time": "2023-12-03T14:04:01.260204500Z"
    }
   },
   "id": "93c5280b0f2ab779"
  }
 ],
 "metadata": {
  "kernelspec": {
   "display_name": "Python 3",
   "language": "python",
   "name": "python3"
  },
  "language_info": {
   "codemirror_mode": {
    "name": "ipython",
    "version": 2
   },
   "file_extension": ".py",
   "mimetype": "text/x-python",
   "name": "python",
   "nbconvert_exporter": "python",
   "pygments_lexer": "ipython2",
   "version": "2.7.6"
  }
 },
 "nbformat": 4,
 "nbformat_minor": 5
}
