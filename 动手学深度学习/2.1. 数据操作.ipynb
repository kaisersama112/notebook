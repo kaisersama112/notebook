{
 "cells": [
  {
   "cell_type": "markdown",
   "source": [
    "## 2.1 数据操作\n",
    "为了能够完成各种数据操作，我们需要某种方法来存储和操作数据。 通常，我们需要做两件重要的事：\n",
    "    （1）获取数据；\n",
    "    （2）将数据读入计算机后对其进行处理。 如果没有某种方法来存储数据，那么获取数据是没有意义的。\n",
    "    首先，我们介绍n维数组，也称为张量（tensor）。 使用过Python中NumPy计算包的读者会对本部分很熟悉。 无论使用哪个深度学习框架，它的张量类（在MXNet中为ndarray， 在PyTorch和TensorFlow中为Tensor）都与Numpy的ndarray类似。 但深度学习框架又比Numpy的ndarray多一些重要功能： 首先，GPU很好地支持加速计算，而NumPy仅支持CPU计算； 其次，张量类支持自动微分。 这些功能使得张量类更适合深度学习。 如果没有特殊说明，本书中所说的张量均指的是张量类的实例。"
   ],
   "metadata": {
    "collapsed": false
   },
   "id": "e3867432d1d7bf1e"
  },
  {
   "cell_type": "code",
   "execution_count": 24,
   "outputs": [],
   "source": [
    "import torch"
   ],
   "metadata": {
    "collapsed": false,
    "ExecuteTime": {
     "end_time": "2023-12-04T06:44:45.097700200Z",
     "start_time": "2023-12-04T06:44:45.095697800Z"
    }
   },
   "id": "af8966dd9c01a496"
  },
  {
   "cell_type": "markdown",
   "source": [
    "张量表示一个由数值组成的数组，这个数组可能有多个维度，具有一个轴的张量对于数学上的向量（vector）,具有两个轴的张量对应数学上的矩阵（matrix）;具有两个轴以上的张量没有特殊的数学名称。\n",
    "创建一个行向量x 这个行向量包含以0开始的前12个整数，他们默认创建为整数，也可以指定创建类型为浮点数，张量中的每个值都称为张量的元素（element）。例如：张量 x 中有 12 个元素。除非额外指定，新的张量将存储在内存中，并采用基于CPU的计算。\n"
   ],
   "metadata": {
    "collapsed": false
   },
   "id": "96c3f94e43f915ff"
  },
  {
   "cell_type": "code",
   "execution_count": 25,
   "outputs": [
    {
     "name": "stdout",
     "output_type": "stream",
     "text": [
      "tensor([ 0,  1,  2,  3,  4,  5,  6,  7,  8,  9, 10, 11])\n",
      "tensor([ 0.,  1.,  2.,  3.,  4.,  5.,  6.,  7.,  8.,  9., 10., 11.],\n",
      "       dtype=torch.float64)\n",
      "tensor([0.0000, 0.1000, 0.2000, 0.3000, 0.4000, 0.5000, 0.6000, 0.7000, 0.8000,\n",
      "        0.9000])\n"
     ]
    }
   ],
   "source": [
    "x = torch.arange(12)\n",
    "print(x)\n",
    "\n",
    "y = torch.arange(0, 12, dtype=float)\n",
    "print(y)\n",
    "z = torch.arange(0, 1, 0.1)\n",
    "\n",
    "print(z)"
   ],
   "metadata": {
    "collapsed": false,
    "ExecuteTime": {
     "end_time": "2023-12-04T06:44:45.414688800Z",
     "start_time": "2023-12-04T06:44:45.408102300Z"
    }
   },
   "id": "f20edf737b6d7fb9"
  },
  {
   "cell_type": "markdown",
   "source": [
    "使用shape属性来访问张量（沿每个轴的长度）的形状 。\n"
   ],
   "metadata": {
    "collapsed": false
   },
   "id": "68d81872a7a1eabb"
  },
  {
   "cell_type": "code",
   "execution_count": 26,
   "outputs": [
    {
     "name": "stdout",
     "output_type": "stream",
     "text": [
      "torch.Size([12])\n",
      "torch.Size([12])\n"
     ]
    }
   ],
   "source": [
    "print(x.shape)\n",
    "print(y.shape)"
   ],
   "metadata": {
    "collapsed": false,
    "ExecuteTime": {
     "end_time": "2023-12-04T06:44:45.715438500Z",
     "start_time": "2023-12-04T06:44:45.711436700Z"
    }
   },
   "id": "e7debc942c42989"
  },
  {
   "cell_type": "raw",
   "source": [
    "查看张量中元素的总数，即形状的所有元素乘积，可以检查它的大小（size）。 因为这里在处理的是一个向量，所以它的shape与它的size相同。"
   ],
   "metadata": {
    "collapsed": false
   },
   "id": "370c521bbf13693c"
  },
  {
   "cell_type": "code",
   "execution_count": 27,
   "outputs": [
    {
     "name": "stdout",
     "output_type": "stream",
     "text": [
      "12\n",
      "12\n"
     ]
    }
   ],
   "source": [
    "print(x.numel())\n",
    "print(y.numel())"
   ],
   "metadata": {
    "collapsed": false,
    "ExecuteTime": {
     "end_time": "2023-12-04T06:44:46.035012300Z",
     "start_time": "2023-12-04T06:44:46.032010600Z"
    }
   },
   "id": "7613a1f869769739"
  },
  {
   "cell_type": "raw",
   "source": [
    "如果想改变一个张量的形状而不改变元素数量的元素值，可以调用reshape 函数 "
   ],
   "metadata": {
    "collapsed": false
   },
   "id": "78abfb9b1ec958c6"
  },
  {
   "cell_type": "code",
   "execution_count": 28,
   "outputs": [
    {
     "name": "stdout",
     "output_type": "stream",
     "text": [
      "tensor([[ 0,  1,  2,  3],\n",
      "        [ 4,  5,  6,  7],\n",
      "        [ 8,  9, 10, 11]])\n",
      "tensor([[ 0.,  1.,  2.],\n",
      "        [ 3.,  4.,  5.],\n",
      "        [ 6.,  7.,  8.],\n",
      "        [ 9., 10., 11.]], dtype=torch.float64)\n"
     ]
    }
   ],
   "source": [
    "x = x.reshape(3, 4)\n",
    "y = y.reshape(4, 3)\n",
    "print(x)\n",
    "print(y)"
   ],
   "metadata": {
    "collapsed": false,
    "ExecuteTime": {
     "end_time": "2023-12-04T06:44:46.353946100Z",
     "start_time": "2023-12-04T06:44:46.350684100Z"
    }
   },
   "id": "a060bac45e0c50c4"
  },
  {
   "cell_type": "code",
   "execution_count": 29,
   "outputs": [
    {
     "name": "stdout",
     "output_type": "stream",
     "text": [
      "torch.Size([3, 4])\n",
      "torch.Size([4, 3])\n"
     ]
    }
   ],
   "source": [
    "print(x.shape)\n",
    "print(y.shape)"
   ],
   "metadata": {
    "collapsed": false,
    "ExecuteTime": {
     "end_time": "2023-12-04T06:44:46.521715300Z",
     "start_time": "2023-12-04T06:44:46.516712900Z"
    }
   },
   "id": "31f836e27c62f065"
  },
  {
   "cell_type": "markdown",
   "source": [
    "我们不需要通过手动指定每个维度来改变形状。 也就是说，如果我们的目标形状是（高度,宽度）， 那么在知道宽度后，高度会被自动计算得出，不必我们自己做除法。 在上面的例子中，为了获得一个3行的矩阵，我们手动指定了它有3行和4列。 幸运的是，我们可以通过-1来调用此自动计算出维度的功能。 即我们可以用x.reshape(-1,4)或x.reshape(3,-1)来取代x.reshape(3,4)。"
   ],
   "metadata": {
    "collapsed": false
   },
   "id": "92a4a1ded8d424f4"
  },
  {
   "cell_type": "code",
   "execution_count": 30,
   "outputs": [
    {
     "name": "stdout",
     "output_type": "stream",
     "text": [
      "tensor([[ 0,  1,  2,  3],\n",
      "        [ 4,  5,  6,  7],\n",
      "        [ 8,  9, 10, 11]])\n",
      "torch.Size([3, 4])\n"
     ]
    }
   ],
   "source": [
    "x = torch.arange(0, 12)\n",
    "x = x.reshape(-1, 4)\n",
    "print(x)\n",
    "print(x.shape)"
   ],
   "metadata": {
    "collapsed": false,
    "ExecuteTime": {
     "end_time": "2023-12-04T06:44:46.849129900Z",
     "start_time": "2023-12-04T06:44:46.846622700Z"
    }
   },
   "id": "e7d033b93e0b0dff"
  },
  {
   "cell_type": "markdown",
   "source": [
    "创建全0，全1，其他常量，或者从特定分布中随机采样的数字来初始化矩阵，我们可以创建一个形状为（2，3，4）的张量，其中所有的元素都设置为0"
   ],
   "metadata": {
    "collapsed": false
   },
   "id": "6a396b55dfafea65"
  },
  {
   "cell_type": "code",
   "execution_count": 31,
   "outputs": [
    {
     "name": "stdout",
     "output_type": "stream",
     "text": [
      "tensor([[[0., 0., 0., 0.],\n",
      "         [0., 0., 0., 0.],\n",
      "         [0., 0., 0., 0.]],\n",
      "\n",
      "        [[0., 0., 0., 0.],\n",
      "         [0., 0., 0., 0.],\n",
      "         [0., 0., 0., 0.]]])\n",
      "torch.Size([2, 3, 4])\n",
      "tensor([[[1., 1., 1., 1.],\n",
      "         [1., 1., 1., 1.],\n",
      "         [1., 1., 1., 1.]],\n",
      "\n",
      "        [[1., 1., 1., 1.],\n",
      "         [1., 1., 1., 1.],\n",
      "         [1., 1., 1., 1.]]])\n",
      "torch.Size([2, 3, 4])\n"
     ]
    }
   ],
   "source": [
    "x = torch.zeros((2, 3, 4))\n",
    "print(x)\n",
    "print(x.shape)\n",
    "y = torch.ones((2, 3, 4))\n",
    "print(y)\n",
    "print(y.shape)"
   ],
   "metadata": {
    "collapsed": false,
    "ExecuteTime": {
     "end_time": "2023-12-04T06:44:47.197728900Z",
     "start_time": "2023-12-04T06:44:47.193278200Z"
    }
   },
   "id": "b815d7d37afca4"
  },
  {
   "cell_type": "raw",
   "source": [
    "有时我们想通过从某个特定的概率分布中随机采样来得到张量中每个元素的值。 例如，当我们构造数组来作为神经网络中的参数时，我们通常会随机初始化参数的值。 以下代码创建一个形状为（3,4）的张量。 其中的每个元素都从均值为0、标准差为1的标准高斯分布（正态分布）中随机采样。"
   ],
   "metadata": {
    "collapsed": false
   },
   "id": "c0570ffd54f01449"
  },
  {
   "cell_type": "code",
   "execution_count": 32,
   "outputs": [
    {
     "name": "stdout",
     "output_type": "stream",
     "text": [
      "tensor([[ 0.6378, -0.3172, -1.4313,  1.2711],\n",
      "        [-0.7190, -0.8561,  0.7441,  0.5401],\n",
      "        [ 2.2458, -0.0089,  1.6704,  0.0695]])\n",
      "torch.Size([3, 4])\n"
     ]
    }
   ],
   "source": [
    "z = torch.randn((3, 4))\n",
    "print(z)\n",
    "print(z.shape)"
   ],
   "metadata": {
    "collapsed": false,
    "ExecuteTime": {
     "end_time": "2023-12-04T06:44:47.538789600Z",
     "start_time": "2023-12-04T06:44:47.534844100Z"
    }
   },
   "id": "e75d0a24adac3039"
  },
  {
   "cell_type": "markdown",
   "source": [
    "我们还可以通过提供包含数值的Python列表（或嵌套列表），来为所需张量中的每个元素赋予确定值。 在这里，最外层的列表对应于轴0，内层的列表对应于轴1。"
   ],
   "metadata": {
    "collapsed": false
   },
   "id": "aa26c80a799c0a7f"
  },
  {
   "cell_type": "code",
   "execution_count": 33,
   "outputs": [
    {
     "name": "stdout",
     "output_type": "stream",
     "text": [
      "tensor([[2, 1, 4, 3],\n",
      "        [1, 2, 3, 4],\n",
      "        [4, 3, 2, 1]])\n",
      "torch.Size([3, 4])\n"
     ]
    }
   ],
   "source": [
    "array = [[2, 1, 4, 3], [1, 2, 3, 4], [4, 3, 2, 1]]\n",
    "x = torch.tensor(array)\n",
    "print(x)\n",
    "print(x.shape)"
   ],
   "metadata": {
    "collapsed": false,
    "ExecuteTime": {
     "end_time": "2023-12-04T06:44:47.885774600Z",
     "start_time": "2023-12-04T06:44:47.880571400Z"
    }
   },
   "id": "7777f9f2ab93fea7"
  },
  {
   "cell_type": "markdown",
   "source": [
    "## 2.1.2. 运算符\n",
    "![image-20231204144835021](./assets/Snipaste_2023-12-04_14-49-24.png)\n",
    "\n"
   ],
   "metadata": {
    "collapsed": false
   },
   "id": "203e403e87cf391b"
  },
  {
   "cell_type": "code",
   "execution_count": 34,
   "outputs": [
    {
     "name": "stdout",
     "output_type": "stream",
     "text": [
      "tensor([ 3.,  4.,  6., 10.])\n",
      "tensor([-1.,  0.,  2.,  6.])\n",
      "tensor([ 2.,  4.,  8., 16.])\n",
      "tensor([0.5000, 1.0000, 2.0000, 4.0000])\n",
      "tensor([ 1.,  4., 16., 64.])\n"
     ]
    }
   ],
   "source": [
    "x = torch.tensor([1.0, 2, 4, 8])\n",
    "y = torch.tensor([2, 2, 2, 2])\n",
    "print(x + y)\n",
    "print(x - y)\n",
    "print(x * y)\n",
    "print(x / y)\n",
    "print(x ** y)  # **运算符是求幂运算"
   ],
   "metadata": {
    "collapsed": false,
    "ExecuteTime": {
     "end_time": "2023-12-04T06:52:49.667831100Z",
     "start_time": "2023-12-04T06:52:49.566381500Z"
    }
   },
   "id": "61d87d14ca40adc8"
  },
  {
   "cell_type": "markdown",
   "source": [
    "“按元素”方式可以应用更多的计算，包括像求幂这样的一元运算符。"
   ],
   "metadata": {
    "collapsed": false
   },
   "id": "31b49db09c361e4"
  },
  {
   "cell_type": "code",
   "execution_count": 35,
   "outputs": [
    {
     "name": "stdout",
     "output_type": "stream",
     "text": [
      "tensor([2.7183e+00, 7.3891e+00, 5.4598e+01, 2.9810e+03])\n"
     ]
    }
   ],
   "source": [
    "print(torch.exp(x))"
   ],
   "metadata": {
    "collapsed": false,
    "ExecuteTime": {
     "end_time": "2023-12-04T06:53:54.752225300Z",
     "start_time": "2023-12-04T06:53:54.679191500Z"
    }
   },
   "id": "a14e6bde8bb07053"
  },
  {
   "cell_type": "markdown",
   "source": [],
   "metadata": {
    "collapsed": false
   },
   "id": "653dcb95cdcf8fb8"
  },
  {
   "cell_type": "markdown",
   "source": [
    "![image-2](./assets/Snipaste_2023-12-04_14-54-56.png)"
   ],
   "metadata": {
    "collapsed": false
   },
   "id": "ee30cc3a8045d621"
  },
  {
   "cell_type": "code",
   "execution_count": 39,
   "outputs": [
    {
     "name": "stdout",
     "output_type": "stream",
     "text": [
      "tensor([[ 0.,  1.,  2.,  3.],\n",
      "        [ 4.,  5.,  6.,  7.],\n",
      "        [ 8.,  9., 10., 11.]])\n",
      "tensor([[2., 1., 4., 3.],\n",
      "        [1., 2., 3., 4.],\n",
      "        [4., 3., 2., 1.]])\n",
      "tensor([[ 0.,  1.,  2.,  3.],\n",
      "        [ 4.,  5.,  6.,  7.],\n",
      "        [ 8.,  9., 10., 11.],\n",
      "        [ 2.,  1.,  4.,  3.],\n",
      "        [ 1.,  2.,  3.,  4.],\n",
      "        [ 4.,  3.,  2.,  1.]])\n",
      "tensor([[ 0.,  1.,  2.,  3.,  2.,  1.,  4.,  3.],\n",
      "        [ 4.,  5.,  6.,  7.,  1.,  2.,  3.,  4.],\n",
      "        [ 8.,  9., 10., 11.,  4.,  3.,  2.,  1.]])\n",
      "24\n",
      "24\n"
     ]
    }
   ],
   "source": [
    "x = torch.arange(12, dtype=torch.float32).reshape(3, -1)\n",
    "y = torch.tensor([[2.0, 1, 4, 3], [1, 2, 3, 4], [4, 3, 2, 1]])\n",
    "print(x)\n",
    "print(y)\n",
    "# 纵轴链接\n",
    "z1 = torch.cat((x, y), dim=0)\n",
    "# 横轴链接 \n",
    "z2 = torch.cat((x, y), dim=1)\n",
    "print(z1)\n",
    "print(z2)\n",
    "print(z1.numel())\n",
    "print(z2.numel())\n"
   ],
   "metadata": {
    "collapsed": false,
    "ExecuteTime": {
     "end_time": "2023-12-04T07:03:24.383389200Z",
     "start_time": "2023-12-04T07:03:24.376558200Z"
    }
   },
   "id": "ce89fb4f4f8ca06"
  },
  {
   "cell_type": "markdown",
   "source": [
    "有时，我们想通过逻辑运算符构建二元张量。 以X == Y为例： 对于每个位置，如果X和Y在该位置相等，则新张量中相应项的值为1。 这意味着逻辑语句X == Y在该位置处为真，否则该位置为0。"
   ],
   "metadata": {
    "collapsed": false
   },
   "id": "20f8ea02707665c1"
  },
  {
   "cell_type": "code",
   "execution_count": 40,
   "outputs": [
    {
     "name": "stdout",
     "output_type": "stream",
     "text": [
      "tensor([[False,  True, False,  True],\n",
      "        [False, False, False, False],\n",
      "        [False, False, False, False]])\n"
     ]
    }
   ],
   "source": [
    "print(x == y)"
   ],
   "metadata": {
    "collapsed": false,
    "ExecuteTime": {
     "end_time": "2023-12-04T07:05:46.504817Z",
     "start_time": "2023-12-04T07:05:46.496506100Z"
    }
   },
   "id": "b4efb42e5de01476"
  },
  {
   "cell_type": "markdown",
   "source": [
    "对张量中的所有元素进行求和，会产生一个单元素张量。"
   ],
   "metadata": {
    "collapsed": false
   },
   "id": "5d41cd937fa41829"
  },
  {
   "cell_type": "code",
   "execution_count": 41,
   "outputs": [
    {
     "name": "stdout",
     "output_type": "stream",
     "text": [
      "tensor(66.)\n"
     ]
    }
   ],
   "source": [
    "print(x.sum())"
   ],
   "metadata": {
    "collapsed": false,
    "ExecuteTime": {
     "end_time": "2023-12-04T07:06:18.954781100Z",
     "start_time": "2023-12-04T07:06:18.935692400Z"
    }
   },
   "id": "7b637847855977ea"
  },
  {
   "cell_type": "markdown",
   "source": [
    "## 2.1.3. 广播机制\n",
    "在上面的部分中，我们看到了如何在相同形状的两个张量上执行按元素操作。 在某些情况下，即使形状不同，我们仍然可以通过调用 广播机制（broadcasting mechanism）来执行按元素操作。 这种机制的工作方式如下：\n",
    "\n",
    "通过适当复制元素来扩展一个或两个数组，以便在转换之后，两个张量具有相同的形状；\n",
    "\n",
    "对生成的数组执行按元素操作。\n",
    "\n",
    "在大多数情况下，我们将沿着数组中长度为1的轴进行广播，如下例子："
   ],
   "metadata": {
    "collapsed": false
   },
   "id": "c576cdc64a0eb851"
  },
  {
   "cell_type": "code",
   "execution_count": 43,
   "outputs": [
    {
     "name": "stdout",
     "output_type": "stream",
     "text": [
      "tensor([[0],\n",
      "        [1],\n",
      "        [2]])\n",
      "tensor([[0, 1]])\n"
     ]
    }
   ],
   "source": [
    "a = torch.arange(3).reshape(3, 1)\n",
    "b = torch.arange(2).reshape(1, 2)\n",
    "print(a)\n",
    "print(b)"
   ],
   "metadata": {
    "collapsed": false,
    "ExecuteTime": {
     "end_time": "2023-12-04T07:09:18.439142800Z",
     "start_time": "2023-12-04T07:09:18.430631400Z"
    }
   },
   "id": "ec002416eea7a963"
  },
  {
   "cell_type": "markdown",
   "source": [
    "由于a和b分别是3x1和1x2矩阵，如果让它们相加，它们的形状不匹配。 我们将两个矩阵广播为一个更大的3x2矩阵，如下所示：矩阵a将复制列， 矩阵b将复制行，然后再按元素相加。"
   ],
   "metadata": {
    "collapsed": false
   },
   "id": "8594ab343195e645"
  },
  {
   "cell_type": "code",
   "execution_count": 44,
   "outputs": [
    {
     "name": "stdout",
     "output_type": "stream",
     "text": [
      "tensor([[0, 1],\n",
      "        [1, 2],\n",
      "        [2, 3]])\n"
     ]
    }
   ],
   "source": [
    "print(a + b)"
   ],
   "metadata": {
    "collapsed": false,
    "ExecuteTime": {
     "end_time": "2023-12-04T07:10:56.820743800Z",
     "start_time": "2023-12-04T07:10:56.799210900Z"
    }
   },
   "id": "d71259e7bee4be6e"
  },
  {
   "cell_type": "markdown",
   "source": [
    "## 2.1.4. 索引和切片"
   ],
   "metadata": {
    "collapsed": false
   },
   "id": "807ada049dbb989"
  },
  {
   "cell_type": "code",
   "execution_count": 45,
   "outputs": [
    {
     "name": "stdout",
     "output_type": "stream",
     "text": [
      "tensor([ 8.,  9., 10., 11.])\n",
      "tensor([[ 4.,  5.,  6.,  7.],\n",
      "        [ 8.,  9., 10., 11.]])\n"
     ]
    }
   ],
   "source": [
    "print(x[-1])\n",
    "print(x[1:3])"
   ],
   "metadata": {
    "collapsed": false,
    "ExecuteTime": {
     "end_time": "2023-12-04T07:12:25.160865Z",
     "start_time": "2023-12-04T07:12:25.070856800Z"
    }
   },
   "id": "20db9edfe95dd581"
  },
  {
   "cell_type": "code",
   "execution_count": 52,
   "outputs": [
    {
     "name": "stdout",
     "output_type": "stream",
     "text": [
      "tensor([[ 0.,  1.,  2.,  3.],\n",
      "        [ 4.,  5., 77.,  7.],\n",
      "        [ 8.,  9., 10., 11.]])\n",
      "tensor([[ 0.,  1.,  2.,  3.],\n",
      "        [ 4.,  5.,  9.,  7.],\n",
      "        [ 8.,  9., 10., 11.]])\n"
     ]
    }
   ],
   "source": [
    "print(x)\n",
    "x[1, 2] = 9\n",
    "print(x)"
   ],
   "metadata": {
    "collapsed": false,
    "ExecuteTime": {
     "end_time": "2023-12-04T07:15:17.596730200Z",
     "start_time": "2023-12-04T07:15:17.591999700Z"
    }
   },
   "id": "3e4e34ee5a422278"
  },
  {
   "cell_type": "markdown",
   "source": [
    "如果我们想为多个元素赋值相同的值，我们只需要索引所有元素，然后为它们赋值。 例如，[0:2, :]访问第1行和第2行，其中“:”代表沿轴1（列）的所有元素。 虽然我们讨论的是矩阵的索引，但这也适用于向量和超过2个维度的张量。"
   ],
   "metadata": {
    "collapsed": false
   },
   "id": "65ab15520593eba0"
  },
  {
   "cell_type": "code",
   "execution_count": 53,
   "outputs": [
    {
     "name": "stdout",
     "output_type": "stream",
     "text": [
      "tensor([[12., 12., 12., 12.],\n",
      "        [12., 12., 12., 12.],\n",
      "        [ 8.,  9., 10., 11.]])\n"
     ]
    }
   ],
   "source": [
    "x[0:2, :] = 12\n",
    "print(x)"
   ],
   "metadata": {
    "collapsed": false,
    "ExecuteTime": {
     "end_time": "2023-12-04T07:16:08.921031200Z",
     "start_time": "2023-12-04T07:16:08.895522500Z"
    }
   },
   "id": "f4ea585b469fbb6"
  },
  {
   "cell_type": "markdown",
   "source": [
    "## 2.1.5. 节省内存\n",
    "运行一些操作可能会导致为新结果分配内存。 例如，如果我们用Y = X + Y，我们将取消引用Y指向的张量，而是指向新分配的内存处的张量。\n",
    "\n",
    "在下面的例子中，我们用Python的id()函数演示了这一点， 它给我们提供了内存中引用对象的确切地址。 运行Y = Y + X后，我们会发现id(Y)指向另一个位置。 这是因为Python首先计算Y + X，为结果分配新的内存，然后使Y指向内存中的这个新位置。"
   ],
   "metadata": {
    "collapsed": false
   },
   "id": "2b6f20dc08fd3c48"
  },
  {
   "cell_type": "code",
   "execution_count": 54,
   "outputs": [
    {
     "name": "stdout",
     "output_type": "stream",
     "text": [
      "False\n"
     ]
    }
   ],
   "source": [
    "before = id(y)\n",
    "y = y + x\n",
    "print(id(y) == before)"
   ],
   "metadata": {
    "collapsed": false,
    "ExecuteTime": {
     "end_time": "2023-12-04T07:20:50.466767300Z",
     "start_time": "2023-12-04T07:20:50.458765800Z"
    }
   },
   "id": "d199e364a6aca332"
  },
  {
   "cell_type": "markdown",
   "source": [
    "这可能是不可取的，原因有两个：\n",
    "1. 首先，我们不想总是不必要地分配内存。在机器学习中，我们可能有数百兆的参数，并且在一秒内多次更新所有参数。通常情况下，我们希望原地执行这些更新；\n",
    "2. 如果我们不原地更新，其他引用仍然会指向旧的内存位置，这样我们的某些代码可能会无意中引用旧的参数。\n",
    "\n"
   ],
   "metadata": {
    "collapsed": false
   },
   "id": "a5250df95d78219b"
  },
  {
   "cell_type": "code",
   "execution_count": 59,
   "outputs": [
    {
     "name": "stdout",
     "output_type": "stream",
     "text": [
      "tensor([[0., 0., 0., 0.],\n",
      "        [0., 0., 0., 0.],\n",
      "        [0., 0., 0., 0.]])\n",
      "1673675734672\n",
      "True\n"
     ]
    }
   ],
   "source": [
    "z = torch.zeros_like(y)\n",
    "print(z)\n",
    "before = id(z)\n",
    "print(before)\n",
    "\n",
    "z[:] = x + y\n",
    "print(id(z) == before)"
   ],
   "metadata": {
    "collapsed": false,
    "ExecuteTime": {
     "end_time": "2023-12-04T07:24:23.693676200Z",
     "start_time": "2023-12-04T07:24:23.673662300Z"
    }
   },
   "id": "a99f622d384f44c9"
  },
  {
   "cell_type": "markdown",
   "source": [
    "如果在后续计算中没有重复使用X， 我们也可以使用X[:] = X + Y或X += Y来减少操作的内存开销。"
   ],
   "metadata": {
    "collapsed": false
   },
   "id": "6d1f84dae579e39b"
  },
  {
   "cell_type": "code",
   "execution_count": 60,
   "outputs": [
    {
     "name": "stdout",
     "output_type": "stream",
     "text": [
      "True\n"
     ]
    }
   ],
   "source": [
    "before = id(x)\n",
    "x += y\n",
    "print(id(x) == before)"
   ],
   "metadata": {
    "collapsed": false,
    "ExecuteTime": {
     "end_time": "2023-12-04T07:25:16.332212600Z",
     "start_time": "2023-12-04T07:25:16.295823500Z"
    }
   },
   "id": "82abeecafc27707d"
  },
  {
   "cell_type": "markdown",
   "source": [
    "## 2.1.6. 转换为其他Python对象\n",
    "将深度学习框架定义的张量转换为NumPy张量（ndarray）很容易，反之也同样容易。 torch张量和numpy数组将共享它们的底层内存，就地操作更改一个张量也会同时更改另一个张量。"
   ],
   "metadata": {
    "collapsed": false
   },
   "id": "a718d11157b2dcce"
  },
  {
   "cell_type": "code",
   "execution_count": 61,
   "outputs": [
    {
     "name": "stdout",
     "output_type": "stream",
     "text": [
      "a:<class 'numpy.ndarray'>\n",
      "a:<class 'torch.Tensor'>\n"
     ]
    }
   ],
   "source": [
    "a = x.numpy()\n",
    "b = torch.tensor(a)\n",
    "print(\"a:{}\".format(type(a)))\n",
    "print(\"a:{}\".format(type(b)))"
   ],
   "metadata": {
    "collapsed": false,
    "ExecuteTime": {
     "end_time": "2023-12-04T07:27:09.343615Z",
     "start_time": "2023-12-04T07:27:09.340100400Z"
    }
   },
   "id": "47bef298cc2b6248"
  },
  {
   "cell_type": "markdown",
   "source": [
    "要将大小为1的张量转换为Python标量，我们可以调用item函数或Python的内置函数。\n"
   ],
   "metadata": {
    "collapsed": false
   },
   "id": "3d477c72a674be09"
  },
  {
   "cell_type": "code",
   "execution_count": 62,
   "outputs": [
    {
     "name": "stdout",
     "output_type": "stream",
     "text": [
      "tensor([3.5000])\n",
      "3.5\n",
      "3.5\n",
      "3\n"
     ]
    }
   ],
   "source": [
    "a= torch.tensor([3.5])\n",
    "print(a)\n",
    "print(a.item())\n",
    "print(float(a))\n",
    "print(int(a))"
   ],
   "metadata": {
    "collapsed": false,
    "ExecuteTime": {
     "end_time": "2023-12-04T07:29:01.313470900Z",
     "start_time": "2023-12-04T07:29:01.232359800Z"
    }
   },
   "id": "ec7145dee75fb3cb"
  },
  {
   "cell_type": "markdown",
   "source": [
    "## 2.1.7. 小结\n",
    "深度学习存储和操作数据的主要接口是张量（n维数组）。它提供了各种功能，包括基本数学运算、广播、索引、切片、内存节省和转换其他Python对象。"
   ],
   "metadata": {
    "collapsed": false
   },
   "id": "a7e929c963169db0"
  },
  {
   "cell_type": "code",
   "execution_count": null,
   "outputs": [],
   "source": [],
   "metadata": {
    "collapsed": false
   },
   "id": "c8f9eaea5c7fa24b"
  },
  {
   "cell_type": "code",
   "execution_count": null,
   "outputs": [],
   "source": [],
   "metadata": {
    "collapsed": false
   },
   "id": "38ab17df2379f179"
  },
  {
   "cell_type": "code",
   "execution_count": null,
   "outputs": [],
   "source": [],
   "metadata": {
    "collapsed": false
   },
   "id": "8ef425f09e29dd0a"
  },
  {
   "cell_type": "code",
   "execution_count": null,
   "outputs": [],
   "source": [],
   "metadata": {
    "collapsed": false
   },
   "id": "af61e3c2df81373"
  }
 ],
 "metadata": {
  "kernelspec": {
   "display_name": "Python 3",
   "language": "python",
   "name": "python3"
  },
  "language_info": {
   "codemirror_mode": {
    "name": "ipython",
    "version": 2
   },
   "file_extension": ".py",
   "mimetype": "text/x-python",
   "name": "python",
   "nbconvert_exporter": "python",
   "pygments_lexer": "ipython2",
   "version": "2.7.6"
  }
 },
 "nbformat": 4,
 "nbformat_minor": 5
}
